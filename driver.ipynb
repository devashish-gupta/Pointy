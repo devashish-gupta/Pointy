{
  "nbformat": 4,
  "nbformat_minor": 0,
  "metadata": {
    "colab": {
      "provenance": []
    },
    "kernelspec": {
      "name": "python3",
      "display_name": "Python 3"
    },
    "language_info": {
      "name": "python"
    }
  },
  "cells": [
    {
      "cell_type": "markdown",
      "source": [
        "# **CS 4644/7643: Deep Learning | Spring 2023**\n",
        "**Georgia Institute of Technology, Atlanta, GA**\n",
        "\n",
        "Final Project by,\n",
        "\n",
        ">*Devashish Gupta*: devashish-gupta@gatech.edu \\\\\n",
        "*Divyaansh Singh*: dsingh313@gatech.edu \\\\\n",
        "*Sanjay Josh*: sjosh3@gatech.edu \\\\\n",
        "*Vastav Bharambe*: vbharambe6@gatech.edu\n",
        "\n",
        "\n",
        "\n"
      ],
      "metadata": {
        "id": "KC8SPqmJFVwY"
      }
    },
    {
      "cell_type": "markdown",
      "source": [
        "# **Point Cloud Classification**\n",
        "\n",
        "#### **Introduction**\n",
        "Point cloud data is an important type of data used in various applications such as autonomous vehicles, robotics, and virtual reality. Point cloud classification refers to the task of assigning a label to a given point cloud based on its features.\n",
        "\n",
        "#### **Dataset**\n",
        "In this notebook, we will be using the ModelNet40 dataset for testing our models. ModelNet40 is a widely-used benchmark dataset for evaluating 3D object classification algorithms. It contains 12,311 CAD models from 40 different categories, with each model represented as a point cloud.\n",
        "\n",
        "#### **Models**\n",
        "We will be implementing and comparing three different models for point cloud classification: SimpleView, 3DCTN, and a modified custom version of 3DCTN. SimpleView is a simple yet effective model that uses a fully connected network to classify point clouds. 3DCTN, on the other hand, is a more complex model that uses a 3D convolutional neural network (CNN) to classify point clouds. We will also be modifying the 3DCTN model to see if we can improve its performance.\n",
        "\n",
        "#### **Adversarial attacks and visualization**\n",
        "Additionally, we will also be testing each model against adversarial attacks, including one-point attacks and imperceptible noise addition attacks, to evaluate their robustness.\n"
      ],
      "metadata": {
        "id": "DMbDnVtgErvg"
      }
    },
    {
      "cell_type": "markdown",
      "source": [
        "# **Imports**"
      ],
      "metadata": {
        "id": "kXxJOgbHH6FQ"
      }
    },
    {
      "cell_type": "code",
      "source": [
        "# imports"
      ],
      "metadata": {
        "id": "gE4iBmW6H3Yi"
      },
      "execution_count": null,
      "outputs": []
    },
    {
      "cell_type": "markdown",
      "source": [
        "# **Dataset Preparation**\n",
        "\n",
        "Loading the ModelNet40 dataset and selecting a balanced subset of the dataset for training and testing purposes. We choose a subset of the dataset to reduce computational requirements for effective training."
      ],
      "metadata": {
        "id": "EIXFm_RvHudf"
      }
    },
    {
      "cell_type": "code",
      "source": [
        "# Loading dataset\n",
        "\n",
        "\n",
        "# Selecting a balanced subset of the dataset\n",
        "\n",
        "\n",
        "# Saving the subset"
      ],
      "metadata": {
        "id": "bx4pCjHVIDpB"
      },
      "execution_count": null,
      "outputs": []
    },
    {
      "cell_type": "markdown",
      "source": [
        "## Test-train split\n",
        "Splitting the dataset into training and testing sets"
      ],
      "metadata": {
        "id": "QGa3xW1zIZb_"
      }
    },
    {
      "cell_type": "code",
      "source": [
        "# Implementing the split between training and testing sets\n",
        "\n",
        "\n",
        "# Saving the splits"
      ],
      "metadata": {
        "id": "yGY8wN-4IY8v"
      },
      "execution_count": null,
      "outputs": []
    },
    {
      "cell_type": "markdown",
      "source": [
        "## Dataset Visualization\n",
        "\n",
        "Visualizing point clouds for some classes within the dataset."
      ],
      "metadata": {
        "id": "fQF4jxmcI6Nn"
      }
    },
    {
      "cell_type": "code",
      "source": [
        "# Implementing visualization\n",
        "\n",
        "\n",
        "# Saving the figure"
      ],
      "metadata": {
        "id": "hOwug3-tJgai"
      },
      "execution_count": null,
      "outputs": []
    },
    {
      "cell_type": "markdown",
      "source": [
        "# **SimpleView Model**\n",
        "\n",
        "Implementing the SimpleView model as a PyTorch module.\n",
        "\n",
        "[Paper link]: [Revisiting Point Cloud Shape Classification\n",
        "with a Simple and Effective Baseline](https://arxiv.org/pdf/2106.05304v1.pdf)"
      ],
      "metadata": {
        "id": "h4HLj0WoD_vk"
      }
    },
    {
      "cell_type": "code",
      "source": [
        "# Figure for the SimpleView model architecture"
      ],
      "metadata": {
        "id": "HadKJ_goKYkQ"
      },
      "execution_count": null,
      "outputs": []
    },
    {
      "cell_type": "markdown",
      "source": [
        "## Utilities\n",
        "Defining the utilities such as the project operator, that are an essential part of the SimpleView paradigm."
      ],
      "metadata": {
        "id": "useSMPx-D_vk"
      }
    },
    {
      "cell_type": "code",
      "source": [
        "# Defining utilities for the SimpleView model"
      ],
      "metadata": {
        "id": "HzbjWBwRD_vl"
      },
      "execution_count": null,
      "outputs": []
    },
    {
      "cell_type": "markdown",
      "source": [
        "## Model Implementation"
      ],
      "metadata": {
        "id": "GSORABHhD_vl"
      }
    },
    {
      "cell_type": "code",
      "source": [
        "# Implementing the SimpleView Model as a PyTorch module"
      ],
      "metadata": {
        "id": "84CNgKfFD_vl"
      },
      "execution_count": null,
      "outputs": []
    },
    {
      "cell_type": "markdown",
      "source": [
        "## SimpleView: Training\n",
        "\n",
        "Implementing a training routine for the SimpleView model.\n",
        "\n",
        "#### Hyperparameters (best values)\n",
        "\n",
        "* Learning rate η: \n",
        "* Batch size N:\n",
        "* Epochs: \n",
        "* Optimizer: Adam\n"
      ],
      "metadata": {
        "id": "Q0uAtTPcD_vl"
      }
    },
    {
      "cell_type": "code",
      "source": [
        "# Implementing the training routine for SimpleView"
      ],
      "metadata": {
        "id": "2SaLLTOtD_vl"
      },
      "execution_count": null,
      "outputs": []
    },
    {
      "cell_type": "markdown",
      "source": [
        "## SimpleView: Testing\n",
        "\n",
        "Characterizing the performance of the SimpleView Model"
      ],
      "metadata": {
        "id": "gml0lT0CD_vl"
      }
    },
    {
      "cell_type": "code",
      "source": [
        "# Testing SimpleView classification accuracy"
      ],
      "metadata": {
        "id": "drpLc0wOD_vl"
      },
      "execution_count": null,
      "outputs": []
    },
    {
      "cell_type": "markdown",
      "source": [
        "Confusion matrix"
      ],
      "metadata": {
        "id": "9NCkK0WmD_vn"
      }
    },
    {
      "cell_type": "code",
      "source": [
        "# Plotting the confusion matrix for classification"
      ],
      "metadata": {
        "id": "z4ZpvpJKD_vn"
      },
      "execution_count": null,
      "outputs": []
    },
    {
      "cell_type": "markdown",
      "source": [
        "# **3DCTN Model**\n",
        "\n",
        "Implementing the 3DCTN model as a PyTorch module.\n",
        "\n",
        "[Paper link]: [3DCTN: 3D Convolution-Transformer Network for\n",
        "Point Cloud Classification](https://arxiv.org/pdf/2203.00828.pdf)"
      ],
      "metadata": {
        "id": "SG1eQxF7_5NH"
      }
    },
    {
      "cell_type": "code",
      "source": [
        "# Figure for the 3DCTN architecture"
      ],
      "metadata": {
        "id": "Pj4a2SfIKRIO"
      },
      "execution_count": null,
      "outputs": []
    },
    {
      "cell_type": "markdown",
      "source": [
        "## Utilities\n",
        "Defining the utilities such as ."
      ],
      "metadata": {
        "id": "QwXSDz1N_h0b"
      }
    },
    {
      "cell_type": "code",
      "source": [
        "# Defining utilities for the 3DCTN model"
      ],
      "metadata": {
        "id": "3R835Trd_4zk"
      },
      "execution_count": null,
      "outputs": []
    },
    {
      "cell_type": "markdown",
      "source": [
        "## Model Implementation"
      ],
      "metadata": {
        "id": "B1eHNvauC_af"
      }
    },
    {
      "cell_type": "code",
      "source": [
        "# Implementing the 3DCTN Model as a PyTorch module"
      ],
      "metadata": {
        "id": "SsgA2TSoAMLg"
      },
      "execution_count": null,
      "outputs": []
    },
    {
      "cell_type": "markdown",
      "source": [
        "## 3DCTN: Training\n",
        "\n",
        "Implementing a training routine for the SimpleView model.\n",
        "\n",
        "**Hyperparameters (best values)**\n",
        "\n",
        "* Learning rate η: \n",
        "* Batch size N:\n",
        "* Epochs: \n",
        "* Optimizer: Adam\n"
      ],
      "metadata": {
        "id": "adYJLVA9AM0Q"
      }
    },
    {
      "cell_type": "code",
      "source": [
        "# Implementing the training routine for 3DCTN"
      ],
      "metadata": {
        "id": "iSbsNId1BW_Q"
      },
      "execution_count": null,
      "outputs": []
    },
    {
      "cell_type": "markdown",
      "source": [
        "## 3DCTN: Testing\n",
        "\n",
        "Characterizing the performance of the 3DCTN Model"
      ],
      "metadata": {
        "id": "poWpVTpcBfOH"
      }
    },
    {
      "cell_type": "code",
      "source": [
        "# Testing 3DCTN Classification accuracy"
      ],
      "metadata": {
        "id": "1EzVpOBrCKAP"
      },
      "execution_count": null,
      "outputs": []
    },
    {
      "cell_type": "markdown",
      "source": [
        "Confusion matrix"
      ],
      "metadata": {
        "id": "_s-UHxxwDvQH"
      }
    },
    {
      "cell_type": "code",
      "source": [
        "# Plotting the confusion matrix for classification"
      ],
      "metadata": {
        "id": "LfTGiA6nDowo"
      },
      "execution_count": null,
      "outputs": []
    },
    {
      "cell_type": "markdown",
      "source": [
        "# **Adversarial Attacks**\n",
        "In this section, we examine the SimpleView Model and 3DCTN in terms of their resilience against adversarial attacks. We consider two kinds"
      ],
      "metadata": {
        "id": "Rb710NUXHSJv"
      }
    },
    {
      "cell_type": "markdown",
      "source": [
        "## One-point attacks\n",
        "\n",
        "In this sub-section, we implement one-point attacks on the SimpleView and 3DCTN model. Under this attack, we just perturb one point within the point cloud corresponding to "
      ],
      "metadata": {
        "id": "NnMXtOFyIjM_"
      }
    },
    {
      "cell_type": "markdown",
      "source": [
        "#### SimpleView"
      ],
      "metadata": {
        "id": "XMIWTtT_LE12"
      }
    },
    {
      "cell_type": "markdown",
      "source": [
        "*Example 1*"
      ],
      "metadata": {
        "id": "fudP5hIxKjS7"
      }
    },
    {
      "cell_type": "code",
      "source": [],
      "metadata": {
        "id": "LCVmUbwkKh_m"
      },
      "execution_count": null,
      "outputs": []
    },
    {
      "cell_type": "code",
      "source": [
        "# Printing the point perturbance distance"
      ],
      "metadata": {
        "id": "hmiLSvAEK33G"
      },
      "execution_count": null,
      "outputs": []
    },
    {
      "cell_type": "markdown",
      "source": [
        "*Example 2*"
      ],
      "metadata": {
        "id": "-a7hoJnDKwOe"
      }
    },
    {
      "cell_type": "code",
      "source": [],
      "metadata": {
        "id": "z-woADciKvv-"
      },
      "execution_count": null,
      "outputs": []
    },
    {
      "cell_type": "code",
      "source": [
        "# Printing the point perturbance distance"
      ],
      "metadata": {
        "id": "Jn3jW_UyK9_u"
      },
      "execution_count": null,
      "outputs": []
    },
    {
      "cell_type": "markdown",
      "source": [
        "#### 3DCTN"
      ],
      "metadata": {
        "id": "4pKjqpukLwAO"
      }
    },
    {
      "cell_type": "markdown",
      "source": [
        "*Example 1*"
      ],
      "metadata": {
        "id": "CrzGs9FlL3lo"
      }
    },
    {
      "cell_type": "code",
      "source": [],
      "metadata": {
        "id": "WDHkgrCcL1wm"
      },
      "execution_count": null,
      "outputs": []
    },
    {
      "cell_type": "code",
      "source": [
        "# Printing the point perturbance distance"
      ],
      "metadata": {
        "id": "9v4bzBIUNyw7"
      },
      "execution_count": null,
      "outputs": []
    },
    {
      "cell_type": "markdown",
      "source": [
        "*Example 2*"
      ],
      "metadata": {
        "id": "9U3qA9SDL5Dn"
      }
    },
    {
      "cell_type": "code",
      "source": [],
      "metadata": {
        "id": "rnnGHKzuMKy2"
      },
      "execution_count": null,
      "outputs": []
    },
    {
      "cell_type": "code",
      "source": [
        "# Printing the point perturbance distance"
      ],
      "metadata": {
        "id": "PoUOmv5RN0Xe"
      },
      "execution_count": null,
      "outputs": []
    },
    {
      "cell_type": "markdown",
      "source": [
        "## Noise attacks\n",
        "\n",
        "In this sub-section, we implement imperceptible noise attacks on the SimpleView and 3DCTN model. Under this attack, we perturb the model point cloud globally and regularize w.r.t the overall displacement of all points."
      ],
      "metadata": {
        "id": "DthK5lC5LThI"
      }
    },
    {
      "cell_type": "markdown",
      "source": [
        "#### Simple View"
      ],
      "metadata": {
        "id": "Xw4i4qfgMNTm"
      }
    },
    {
      "cell_type": "markdown",
      "source": [
        "*Example 1*"
      ],
      "metadata": {
        "id": "yDCHSjNRMYMF"
      }
    },
    {
      "cell_type": "code",
      "source": [],
      "metadata": {
        "id": "uqEZvSALLStm"
      },
      "execution_count": null,
      "outputs": []
    },
    {
      "cell_type": "code",
      "source": [
        "# Printing the average point displacement and point cloud difference"
      ],
      "metadata": {
        "id": "F2Z0wufsMhvN"
      },
      "execution_count": null,
      "outputs": []
    },
    {
      "cell_type": "markdown",
      "source": [
        "*Example 2*"
      ],
      "metadata": {
        "id": "GzqKdUl-MdhV"
      }
    },
    {
      "cell_type": "code",
      "source": [],
      "metadata": {
        "id": "ZmMCM26mMhEl"
      },
      "execution_count": null,
      "outputs": []
    },
    {
      "cell_type": "code",
      "source": [
        "# Printing the average point displacement and point cloud difference"
      ],
      "metadata": {
        "id": "yUfhdBfEMiX9"
      },
      "execution_count": null,
      "outputs": []
    },
    {
      "cell_type": "markdown",
      "source": [
        "#### 3DCTN"
      ],
      "metadata": {
        "id": "TLFtPxQQNIUe"
      }
    },
    {
      "cell_type": "markdown",
      "source": [
        "*Example 1*"
      ],
      "metadata": {
        "id": "92vzjNeJNMG2"
      }
    },
    {
      "cell_type": "code",
      "source": [],
      "metadata": {
        "id": "EmTWPew-NQdu"
      },
      "execution_count": null,
      "outputs": []
    },
    {
      "cell_type": "code",
      "source": [
        "# Printing the average point displacement and point cloud difference"
      ],
      "metadata": {
        "id": "TIEqBIBONQJG"
      },
      "execution_count": null,
      "outputs": []
    },
    {
      "cell_type": "markdown",
      "source": [
        "*Example 2*"
      ],
      "metadata": {
        "id": "jzVBZUbfNQ-f"
      }
    },
    {
      "cell_type": "code",
      "source": [],
      "metadata": {
        "id": "4SseNTgMNTST"
      },
      "execution_count": null,
      "outputs": []
    },
    {
      "cell_type": "code",
      "source": [
        "# Printing the average point displacement and point cloud difference"
      ],
      "metadata": {
        "id": "r1mo17uONTJ-"
      },
      "execution_count": null,
      "outputs": []
    },
    {
      "cell_type": "markdown",
      "source": [
        "# **Results and Conclusion**\n",
        "\n",
        "In this work, we ..."
      ],
      "metadata": {
        "id": "cVs8nAd1NT3O"
      }
    }
  ]
}